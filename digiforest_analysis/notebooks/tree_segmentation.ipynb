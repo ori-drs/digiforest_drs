{
 "cells": [
  {
   "cell_type": "code",
   "execution_count": null,
   "id": "a07e0c2f-7410-41e4-ac3b-9a3ffa6143cc",
   "metadata": {
    "tags": []
   },
   "outputs": [],
   "source": [
    "import open3d as o3d\n",
    "import numpy as np\n",
    "import matplotlib.pyplot as plt\n",
    "from digiforest_analysis.utils.timing import Timer\n",
    "\n",
    "timer = Timer()"
   ]
  },
  {
   "cell_type": "code",
   "execution_count": null,
   "id": "dbc95ab7",
   "metadata": {},
   "outputs": [],
   "source": [
    "# Visualize segmentation results\n",
    "def visualize(cloud, labels, method):\n",
    "    if labels is not None:\n",
    "        cmap = plt.get_cmap(\"prism\")\n",
    "        # cmap = plt.get_cmap(\"nipy_spectral\")\n",
    "        colors = cmap(labels / (max_label if max_label > 0 else 1))\n",
    "        colors[labels < 0] = 0\n",
    "        cloud.colors = o3d.utility.Vector3dVector(colors[:, :3])\n",
    "    o3d.visualization.draw_geometries(\n",
    "        [cloud],\n",
    "        # zoom=0.5,\n",
    "        # front=[0.79, 0.02, 0.60],\n",
    "        # lookat=[2.61, 2.04, 1.53],\n",
    "        # up=[-0.60, -0.012, 0.79],\n",
    "        window_name=method,\n",
    "    )"
   ]
  },
  {
   "cell_type": "code",
   "execution_count": null,
   "id": "bba32d3a-3d95-45cf-b284-355491ef85e6",
   "metadata": {
    "tags": []
   },
   "outputs": [],
   "source": [
    "# load data\n",
    "pcd_file = \"/home/matias/vilens_slam_data/test_data/forest_cloud.pcd\"\n",
    "pcd = o3d.t.io.read_point_cloud(pcd_file)\n",
    "print(pcd)\n",
    "visualize(pcd.to_legacy(), None, \"original_cloud\")"
   ]
  },
  {
   "cell_type": "code",
   "execution_count": null,
   "id": "1e43163c",
   "metadata": {},
   "outputs": [],
   "source": [
    "mask = (pcd.point.normals[:, 2] >= -0.5) & (pcd.point.normals[:, 2] <= 0.5)\n",
    "pcd = pcd.select_by_mask(mask).to_legacy()\n",
    "\n",
    "visualize(pcd, None, \"filtered_by_normal\")"
   ]
  },
  {
   "cell_type": "code",
   "execution_count": null,
   "id": "65f27b74",
   "metadata": {},
   "outputs": [],
   "source": [
    "pcd = pcd.voxel_down_sample(voxel_size=0.1)\n",
    "o3d.visualization.draw_geometries(\n",
    "    [pcd],\n",
    "    zoom=0.5,\n",
    "    front=[0.79, 0.02, 0.60],\n",
    "    lookat=[2.61, 2.04, 1.53],\n",
    "    up=[-0.60, -0.012, 0.79],\n",
    ")"
   ]
  },
  {
   "cell_type": "code",
   "execution_count": null,
   "id": "133c7a4e",
   "metadata": {},
   "outputs": [],
   "source": [
    "# # plt.scatter(np.asarray(pcd.points)[:,0], np.asarray(pcd.points)[:,1], alpha=0.1, s=1)\n",
    "# plt.hist2d(\n",
    "#     np.asarray(pcd.points)[:, 0], np.asarray(pcd.points)[:, 1], bins=200, alpha=1\n",
    "# )"
   ]
  },
  {
   "cell_type": "code",
   "execution_count": null,
   "id": "3749f609-c143-4ab0-b9a0-83e46f3ff315",
   "metadata": {
    "tags": []
   },
   "outputs": [],
   "source": [
    "# DBSCAN (open3d)\n",
    "eps = 0.8\n",
    "min_cluster_size = 20\n",
    "with timer(\"dbscan_open3d\"):\n",
    "    labels = np.array(\n",
    "        pcd.cluster_dbscan(eps=eps, min_points=min_cluster_size, print_progress=False)\n",
    "    )\n",
    "max_label = labels.max()\n",
    "print(\"num_clusters = %d\" % (max_label + 1))\n",
    "print(timer)\n",
    "visualize(pcd, labels, \"dbscan_open3d\")"
   ]
  },
  {
   "cell_type": "code",
   "execution_count": null,
   "id": "86d97afb-49e8-4b97-b687-faf106076c52",
   "metadata": {
    "tags": []
   },
   "outputs": [],
   "source": [
    "# DBSCAN (sklearn)\n",
    "from sklearn.cluster import DBSCAN\n",
    "\n",
    "X = np.asarray(pcd.points)\n",
    "eps = 0.3\n",
    "min_cluster_size = 20\n",
    "\n",
    "with timer(\"dbscan_sklearn\"):\n",
    "    db = DBSCAN(eps=eps, min_samples=min_cluster_size).fit(X)\n",
    "labels = db.labels_\n",
    "max_label = labels.max()\n",
    "\n",
    "print(\"num_clusters = %d\" % (max_label + 1))\n",
    "visualize(pcd, labels, \"dbscan_sklearn\")\n",
    "print(timer)"
   ]
  },
  {
   "cell_type": "code",
   "execution_count": null,
   "id": "a5716d8d-4be3-4a1e-9bfe-c23a0a1b61cc",
   "metadata": {
    "tags": []
   },
   "outputs": [],
   "source": [
    "# HDBSCAN\n",
    "from sklearn.cluster import HDBSCAN\n",
    "\n",
    "X = np.asarray(pcd.points)\n",
    "min_cluster_size = 20\n",
    "\n",
    "with timer(\"hbscan\"):\n",
    "    hdb = HDBSCAN(min_cluster_size=min_cluster_size).fit(X)\n",
    "labels = hdb.labels_\n",
    "max_label = labels.max()\n",
    "\n",
    "print(\"num_clusters = %d\" % (max_label + 1))\n",
    "visualize(pcd, labels, \"hdbscan\")\n",
    "print(timer)"
   ]
  },
  {
   "cell_type": "code",
   "execution_count": null,
   "id": "289ad4b3-b9e6-4e33-941f-bfb41d1b5047",
   "metadata": {
    "tags": []
   },
   "outputs": [],
   "source": [
    "# # OPTICS (O(n^2)- Not Suitable for large pointclouds)\n",
    "# from sklearn.cluster import OPTICS, cluster_optics_dbscan\n",
    "# X = np.asarray(pcd.points)[:,:2]\n",
    "# optics = OPTICS(min_samples=50, xi=0.05, max_eps=1.0, algorithm=\"kd_tree\")\n",
    "# optics.fit(X)\n",
    "# labels = cluster_optics_dbscan(reachability=optics.reachability_,\n",
    "#                                core_distances=optics.core_distances_,\n",
    "#                                ordering=optics.ordering_,\n",
    "#                                eps=0.5)\n",
    "# max_label = labels.max()\n",
    "\n",
    "# print(\"num_clusters = %d\" % (max_label + 1))\n",
    "# visualize(pcd, labels)\n",
    "# print(timer)"
   ]
  },
  {
   "cell_type": "code",
   "execution_count": null,
   "id": "237cc261-d42e-4836-b089-385f262aef39",
   "metadata": {
    "tags": []
   },
   "outputs": [],
   "source": [
    "# KMeans\n",
    "from sklearn.cluster import KMeans\n",
    "\n",
    "num_clusters = 350\n",
    "\n",
    "X = np.asarray(pcd.points)\n",
    "\n",
    "with timer(\"kmeans\"):\n",
    "    labels = KMeans(n_clusters=num_clusters, n_init=\"auto\").fit_predict(X)\n",
    "max_label = labels.max()\n",
    "\n",
    "print(\"num_clusters = %d\" % (max_label + 1))\n",
    "visualize(pcd, labels, \"kmeans\")\n",
    "print(timer)"
   ]
  },
  {
   "cell_type": "code",
   "execution_count": null,
   "id": "d04dd1ac-ac98-4a94-a139-0e1440545f15",
   "metadata": {
    "tags": []
   },
   "outputs": [],
   "source": [
    "# Bisecting KMeans\n",
    "from sklearn.cluster import BisectingKMeans\n",
    "\n",
    "num_clusters = 250\n",
    "\n",
    "X = np.asarray(pcd.points)[:, :2]\n",
    "with timer(\"bisecting_kmeans\"):\n",
    "    labels = BisectingKMeans(n_clusters=num_clusters).fit_predict(X)\n",
    "max_label = labels.max()\n",
    "\n",
    "print(\"num_clusters = %d\" % (max_label + 1))\n",
    "visualize(pcd, labels, \"bisecting_kmeans\")\n",
    "print(timer)"
   ]
  },
  {
   "cell_type": "code",
   "execution_count": null,
   "id": "90bea240",
   "metadata": {},
   "outputs": [],
   "source": [
    "# Bisecting KMeans\n",
    "from sklearn.cluster import MiniBatchKMeans\n",
    "\n",
    "num_clusters = 250\n",
    "\n",
    "X = np.asarray(pcd.points)[:, :2]\n",
    "with timer(\"minibatch_kmeans\"):\n",
    "    labels = MiniBatchKMeans(n_clusters=num_clusters).fit_predict(X)\n",
    "max_label = labels.max()\n",
    "\n",
    "print(\"num_clusters = %d\" % (max_label + 1))\n",
    "visualize(pcd, labels, \"minibatch_kmeans\")\n",
    "print(timer)"
   ]
  },
  {
   "cell_type": "code",
   "execution_count": null,
   "id": "bc7f641d",
   "metadata": {},
   "outputs": [],
   "source": [
    "# # MeanShift\n",
    "# from sklearn.cluster import MeanShift\n",
    "\n",
    "# X = np.asarray(pcd.points)[:,:2]\n",
    "# with timer(\"mean_shift\"):\n",
    "#     labels = MeanShift().fit_predict(X)\n",
    "# max_label = labels.max()\n",
    "\n",
    "# print(\"num_clusters = %d\" % (max_label + 1))\n",
    "# visualize(pcd, labels)\n",
    "# print(timer)"
   ]
  },
  {
   "cell_type": "code",
   "execution_count": null,
   "id": "8ca6d040",
   "metadata": {},
   "outputs": [],
   "source": [
    "# GaussianMixture\n",
    "from sklearn.mixture import GaussianMixture\n",
    "\n",
    "X = np.asarray(pcd.points)[:, :2]\n",
    "with timer(\"gmm\"):\n",
    "    labels = GaussianMixture(n_components=100).fit_predict(X)\n",
    "max_label = labels.max()\n",
    "\n",
    "print(\"num_clusters = %d\" % (max_label + 1))\n",
    "visualize(pcd, labels, \"gmm\")\n",
    "print(timer)"
   ]
  },
  {
   "cell_type": "code",
   "execution_count": null,
   "id": "8495b84b",
   "metadata": {},
   "outputs": [],
   "source": [
    "# # AgglomerativeClustering\n",
    "# from sklearn.cluster import AgglomerativeClustering\n",
    "\n",
    "# X = np.asarray(pcd.points)[:,:2]\n",
    "# with timer(\"agglomerative\"):\n",
    "#     labels = AgglomerativeClustering(n_clusters=100).fit_predict(X)\n",
    "# max_label = labels.max()\n",
    "\n",
    "# print(\"num_clusters = %d\" % (max_label + 1))\n",
    "# visualize(pcd, labels, \"agglomerative\")\n",
    "# print(timer)"
   ]
  },
  {
   "cell_type": "code",
   "execution_count": null,
   "id": "7df16878",
   "metadata": {},
   "outputs": [],
   "source": [
    "# # SpectralClustering\n",
    "# from sklearn.cluster import SpectralClustering\n",
    "\n",
    "# X = np.asarray(pcd.points)[:,:2]\n",
    "# with timer(\"spectral\"):\n",
    "#     labels = SpectralClustering(n_clusters=100).fit_predict(X)\n",
    "# max_label = labels.max()\n",
    "\n",
    "# print(\"num_clusters = %d\" % (max_label + 1))\n",
    "# visualize(pcd, labels)\n",
    "# print(timer)"
   ]
  },
  {
   "cell_type": "code",
   "execution_count": null,
   "id": "74a15f70",
   "metadata": {},
   "outputs": [],
   "source": [
    "# BIRCH\n",
    "from sklearn.cluster import Birch\n",
    "\n",
    "X = np.asarray(pcd.points)[:, :2]\n",
    "with timer(\"birch\"):\n",
    "    labels = Birch(n_clusters=None).fit_predict(X)\n",
    "max_label = labels.max()\n",
    "\n",
    "print(\"num_clusters = %d\" % (max_label + 1))\n",
    "visualize(pcd, labels, \"birch\")\n",
    "print(timer)"
   ]
  },
  {
   "cell_type": "code",
   "execution_count": null,
   "id": "462b5ab7-70f3-4928-a43b-24543ca1b560",
   "metadata": {
    "tags": []
   },
   "outputs": [],
   "source": [
    "# # Euclidean clustering\n",
    "# from sklearn.neighbors import KDTree\n",
    "# X = np.asarray(pcd.points)\n",
    "# ec = EuclideanClustering(X, distance_threshold = 1.0, min_cluster_size=100, max_cluster_size=10000)\n",
    "# visualize(pcd, labels)"
   ]
  }
 ],
 "metadata": {
  "kernelspec": {
   "display_name": "Python 3 (ipykernel)",
   "language": "python",
   "name": "python3"
  },
  "language_info": {
   "codemirror_mode": {
    "name": "ipython",
    "version": 3
   },
   "file_extension": ".py",
   "mimetype": "text/x-python",
   "name": "python",
   "nbconvert_exporter": "python",
   "pygments_lexer": "ipython3",
   "version": "3.8.10"
  }
 },
 "nbformat": 4,
 "nbformat_minor": 5
}
