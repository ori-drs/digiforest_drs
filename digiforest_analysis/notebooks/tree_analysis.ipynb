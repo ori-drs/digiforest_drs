{
 "cells": [
  {
   "cell_type": "code",
   "execution_count": null,
   "metadata": {},
   "outputs": [],
   "source": [
    "import csv\n",
    "import numpy as np\n",
    "import open3d as o3d\n",
    "from matplotlib import pyplot as plt \n",
    "from sklearn.neighbors import KDTree\n",
    "from sklearn.decomposition import PCA\n",
    "import plotly.graph_objects as go\n",
    "import ipywidgets as widgets # for interactive sliders\n",
    "import pickle\n",
    "\n",
    "\n",
    "%load_ext autoreload \n",
    "%autoreload 2\n",
    "from digiforest_analysis.tasks.tree_reconstruction import *"
   ]
  },
  {
   "cell_type": "code",
   "execution_count": null,
   "metadata": {},
   "outputs": [],
   "source": [
    "DATASET_DIR = \"/home/ori/git/realtime-trees/single_trees/clustering_2/\"\n",
    "SLICE_HEIGHT = 0.5\n",
    "TREE_ID = 63"
   ]
  },
  {
   "cell_type": "code",
   "execution_count": null,
   "metadata": {},
   "outputs": [],
   "source": [
    "file_name = DATASET_DIR + \"tree\" + str(TREE_ID).zfill(3) + \".pkl\"\n",
    "with open(file_name, 'rb') as file:\n",
    "    cluster = pickle.load(file)\n",
    "cluster"
   ]
  },
  {
   "cell_type": "code",
   "execution_count": null,
   "metadata": {},
   "outputs": [],
   "source": [
    "file_name = DATASET_DIR + \"tree\" + str(TREE_ID).zfill(3) + \".pkl\"\n",
    "with open(file_name, 'rb') as file:\n",
    "    cluster = pickle.load(file)\n",
    "\n",
    "tree = Tree.reconstruct(\n",
    "    cluster,\n",
    "    SLICE_HEIGHT,\n",
    "    slice_thickness=0.3,\n",
    "    \n",
    "    save_points=True,\n",
    "    save_debug_results=True,\n",
    "    save_votes=True,\n",
    "    max_consecutive_fails=5,\n",
    "    filter_min_points=10,\n",
    "    min_hough_vote=0.1,\n",
    "\n",
    ")\n",
    "fig = go.Figure()\n",
    "points = cluster[\"cloud\"].point.positions.numpy()\n",
    "if len(tree.circles) != 0:\n",
    "    all_slice_points = np.concatenate(tree.points)\n",
    "    # points = all_slice_points\n",
    "\n",
    "    plt.figure()\n",
    "    @widgets.interact(i=widgets.IntSlider(min=0, max=len(tree.points)-1, step=1, value=0))\n",
    "    def plot_ith_slice(i):\n",
    "        # show two plots side by side, one for points, one for the mask\n",
    "        fig, ax = plt.subplots(1,2, figsize=(15,6))\n",
    "        \n",
    "        # scatter plot and circles\n",
    "        ax[0].set_title('Points')\n",
    "        ax[0].set_aspect('equal')\n",
    "        ax[0].set_xlim(np.min(all_slice_points[:,0]), np.max(all_slice_points[:,0]))\n",
    "        ax[0].set_ylim(np.min(all_slice_points[:,1]), np.max(all_slice_points[:,1]))\n",
    "        # scatter all points\n",
    "        ax[0].scatter(tree.points[i][:,0], tree.points[i][:,1], s=1, color=\"r\", label='All Points')\n",
    "        ax[0].scatter(tree.hough_points[i][:,0], tree.hough_points[i][:,1], s=5, color=\"g\", label='Filtered Points')\n",
    "        # plot circles\n",
    "        ax[0].add_artist(plt.Circle((tree.circles[i].x, tree.circles[i].y), tree.circles[i].radius, color='g', fill=False, label=f'Circle'))\n",
    "        ax[0].add_artist(plt.Circle((tree.hough_circles[i].x, tree.hough_circles[i].y), tree.hough_circles[i].radius, color='r', fill=False, label=f'Hough Circle'))\n",
    "        print((tree.hough_circles[i].x, tree.hough_circles[i].y), tree.hough_circles[i].radius)\n",
    "        ax[0].legend(loc='upper right')\n",
    "        \n",
    "        #  mask\n",
    "        ax[1].set_title('Pixels for Hough Transformation')\n",
    "        print(tree.hough_votes[i].min(), tree.hough_votes[i].max())\n",
    "        ax[1].imshow(np.rot90(tree.hough_votes[i], k = -1), vmin=0, vmax=5)\n",
    "        # ax[1].invert_yaxis()\n",
    "\n",
    "    for i in range(len(tree.circles) - 1):\n",
    "        tree.circles[i].plot(fig, color='red')\n",
    "        tree.circles[i].plot_cone_frustum(tree.circles[i + 1], fig)\n",
    "        \n",
    "fig.add_trace(go.Scatter3d(x=points[:,0], y=points[:,1], z=points[:,2], mode='markers', marker=dict(size=2, color='black')))\n",
    "fig.update_scenes(aspectmode='data')\n",
    "fig.update_layout( autosize=False, width=600, height=800, margin=dict(l=1,r=1,b=1,t=1,pad=4))\n",
    "fig.show()"
   ]
  },
  {
   "cell_type": "code",
   "execution_count": null,
   "metadata": {},
   "outputs": [],
   "source": [
    "import trimesh\n",
    "import os\n",
    "dir = 'single_trees/clustering/'\n",
    "for file in os.listdir(dir):\n",
    "    if \"pcd\" not in file:\n",
    "        continue\n",
    "    points = np.asarray(o3d.io.read_point_cloud(os.path.join(dir, file)).points)\n",
    "    tree = Tree.reconstruct(\n",
    "        points,\n",
    "        SLICE_HEIGHT,\n",
    "        slice_thickness=0.2,\n",
    "        save_points=True,\n",
    "        save_debug_results=True,\n",
    "        save_votes=True\n",
    "    )\n",
    "    verts, tris = tree.generate_mesh()\n",
    "    if tris.shape[0] == 0:\n",
    "        continue\n",
    "    mesh = trimesh.Trimesh(vertices=verts, faces=tris)\n",
    "    mesh.export(os.path.join('single_trees/clustering_map/meshes', file.replace('.pcd', '.obj')))"
   ]
  },
  {
   "cell_type": "code",
   "execution_count": null,
   "metadata": {},
   "outputs": [],
   "source": []
  }
 ],
 "metadata": {
  "kernelspec": {
   "display_name": "digiforest",
   "language": "python",
   "name": "python3"
  },
  "language_info": {
   "codemirror_mode": {
    "name": "ipython",
    "version": 3
   },
   "file_extension": ".py",
   "mimetype": "text/x-python",
   "name": "python",
   "nbconvert_exporter": "python",
   "pygments_lexer": "ipython3",
   "version": "3.8.18"
  }
 },
 "nbformat": 4,
 "nbformat_minor": 2
}
